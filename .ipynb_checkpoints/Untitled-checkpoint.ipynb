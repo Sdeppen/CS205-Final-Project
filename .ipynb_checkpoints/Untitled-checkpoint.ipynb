{
 "cells": [
  {
   "cell_type": "code",
   "execution_count": 1,
   "metadata": {
    "collapsed": false
   },
   "outputs": [
    {
     "name": "stderr",
     "output_type": "stream",
     "text": [
      "/Users/sdeppen/anaconda/lib/python2.7/site-packages/ipykernel/__main__.py:23: UnicodeWarning: Unicode equal comparison failed to convert both arguments to Unicode - interpreting them as being unequal\n"
     ]
    }
   ],
   "source": [
    "import numpy as np\n",
    "import lda\n",
    "import lda.datasets\n",
    "from stop_words import get_stop_words\n",
    "from gensim import corpora, models\n",
    "\n",
    "word_list = []\n",
    "num_list = []\n",
    "wordcnt = []\n",
    "counter = 1\n",
    "docs = []\n",
    "# create English stop words list\n",
    "en_stop = get_stop_words('en')\n",
    "texts = []\n",
    "\n",
    "\n",
    "with open('ShortDiagTest.txt','r') as f:\n",
    "    for line in f:\n",
    "        raw = line.lower()\n",
    "        tokens = raw.split()\n",
    "        for token in tokens:\n",
    "            # remove stop words from tokens\n",
    "            if not token in en_stop and token.isalpha():\n",
    "                texts.append(token)\n",
    "        docs.append(texts)\n",
    "        \n",
    "        #dictionary = corpora.Dictionary(texts)\n",
    "        \n",
    "        #print(dictionary.token2id)"
   ]
  },
  {
   "cell_type": "code",
   "execution_count": null,
   "metadata": {
    "collapsed": true
   },
   "outputs": [],
   "source": [
    "import numpy as np\n",
    "import lda\n",
    "import lda.datasets\n",
    "from stop_words import get_stop_words\n",
    "from gensim import corpora, models\n",
    "\n",
    "word_list = []\n",
    "num_list = []\n",
    "wordcnt = []\n",
    "counter = 1\n",
    "docs = []\n",
    "# create English stop words list\n",
    "en_stop = get_stop_words('en')\n",
    "texts = []\n",
    "\n",
    "\n",
    "with open('ShortDiagTest.txt','r') as f:\n",
    "    for line in f:\n",
    "        raw = line.lower()\n",
    "        tokens = raw.split()\n",
    "        for token in tokens:\n",
    "            # remove stop words from tokens\n",
    "            if not token in en_stop and token.isalpha():\n",
    "                texts.append(token)\n",
    "        docs.append(texts)\n",
    "        \n",
    "        #dictionary = corpora.Dictionary(texts)\n",
    "        \n",
    "        #print(dictionary.token2id)"
   ]
  }
 ],
 "metadata": {
  "kernelspec": {
   "display_name": "Python 2",
   "language": "python",
   "name": "python2"
  },
  "language_info": {
   "codemirror_mode": {
    "name": "ipython",
    "version": 2
   },
   "file_extension": ".py",
   "mimetype": "text/x-python",
   "name": "python",
   "nbconvert_exporter": "python",
   "pygments_lexer": "ipython2",
   "version": "2.7.10"
  }
 },
 "nbformat": 4,
 "nbformat_minor": 0
}
